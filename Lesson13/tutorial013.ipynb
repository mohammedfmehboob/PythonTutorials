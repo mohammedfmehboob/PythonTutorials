{
 "cells": [
  {
   "cell_type": "markdown",
   "id": "a38d572b",
   "metadata": {},
   "source": [
    "## Some fundamental elements of programming II\n",
    "### Conditional Tests, Boolean Logic, and Other Control Flow"
   ]
  },
  {
   "cell_type": "markdown",
   "id": "809aa3e2",
   "metadata": {},
   "source": [
    "As we said before, the core of data science is computer programming. To really explore data, we need to be able to write code to 1) wrangle data into a suitable shape for analysis and 2) do the actual analysis and visualization.\n",
    "\n",
    "If data science didn't involve programming – if it only involved clicking buttons in a statistics program like SPSS – it wouldn't be called data science. In fact, it wouldn't even be a \"thing\".\n",
    "\n",
    "In this tutorial we are going to start looking at a few more core elements of computer programs."
   ]
  },
  {
   "cell_type": "markdown",
   "id": "30775168",
   "metadata": {},
   "source": [
    "##### Learning outcomes:\n",
    " - Comparisons and Logical operators\n",
    " - Numpy Arrays Comparisons and Logical operators\n",
    " - `If`, `then` statements\n",
    " - `While` Loops"
   ]
  },
  {
   "cell_type": "markdown",
   "id": "1687922d",
   "metadata": {},
   "source": [
    "#### Boo! Logical Tests and Boolean Operators"
   ]
  },
  {
   "cell_type": "markdown",
   "id": "d62720d2",
   "metadata": {},
   "source": [
    "Believe it or not, everything that happens on your phone or computer comes down to lots (and I mean **LOTS**) of little decisions based on one or two inputs that can be either \"True\" or \"False\", and an output that can also be \"True\" or \"False\". Seriously, everything on any digitial device – from Tik Tok videos to your Python code – comes down to a whole bunch of truths and falsehoods (ones and zeros) that are themselves the result of decisions based on other truths and falsehoods. The \"decision makers\" are actual physical (but teeny teeny tiny) devices  that are combinations of things called [*transistors*](https://en.wikipedia.org/wiki/Transistor). Transistors perform conditional tests and logical operations on data. \n",
    "\n",
    "Two are the primary operations performed by transistors:\n",
    "\n",
    "* ***Comparison*** operations like `==` (equals) and `>` (greater than) that yield `True` or `False`\n",
    "* ***Logical*** operations that use ***Boolean logic***, which compares two logical inputs and returns `True` or `False` like  `A and B` (`True` only if both A and B are `True`) and `A or B` (`True` if either A or B – or both – are `True`).\n",
    "\n",
    "Let's play with this. It might seem a bit silly and obvious now, but the power of logical tests will reveal itself soon."
   ]
  },
  {
   "cell_type": "markdown",
   "id": "97244a25",
   "metadata": {},
   "source": [
    "#### Comparison operators\n",
    "\n",
    "These are operators that test a single value. Imagine wanting to ask, whether the number of lives my cat has ([9 for what I was told yesterday, when I was born](https://en.wikipedia.org/wiki/Cat#Superstitions_and_rituals)) is different than the number of lives of [Schrödinger's cat](https://en.wikipedia.org/wiki/Schr%C3%B6dinger%27s_cat) has. Number to number type of questions."
   ]
  },
  {
   "cell_type": "markdown",
   "id": "40148ae3",
   "metadata": {},
   "source": [
    "Let's set a variable `x` to 11. (Why only go to ten when you can go to 11?)"
   ]
  },
  {
   "cell_type": "code",
   "execution_count": 1,
   "id": "6d8b3d4f",
   "metadata": {},
   "outputs": [
    {
     "data": {
      "text/plain": [
       "11"
      ]
     },
     "execution_count": 1,
     "metadata": {},
     "output_type": "execute_result"
    }
   ],
   "source": [
    "x = 11\n",
    "x"
   ]
  },
  {
   "cell_type": "markdown",
   "id": "5378f9ef",
   "metadata": {},
   "source": [
    "Now let's do some logical tests on our variable `x`. Let's see if `x` is less than `42`."
   ]
  },
  {
   "cell_type": "code",
   "execution_count": 2,
   "id": "c8841a2d",
   "metadata": {},
   "outputs": [
    {
     "data": {
      "text/plain": [
       "True"
      ]
     },
     "execution_count": 2,
     "metadata": {},
     "output_type": "execute_result"
    }
   ],
   "source": [
    "x < 42"
   ]
  },
  {
   "cell_type": "markdown",
   "id": "70f3a756",
   "metadata": {},
   "source": [
    "Now you test if `x` is greater than `42`."
   ]
  },
  {
   "cell_type": "code",
   "execution_count": 3,
   "id": "bbfeaf25",
   "metadata": {},
   "outputs": [
    {
     "data": {
      "text/plain": [
       "False"
      ]
     },
     "execution_count": 3,
     "metadata": {},
     "output_type": "execute_result"
    }
   ],
   "source": [
    "x > 42"
   ]
  },
  {
   "cell_type": "markdown",
   "id": "61ba2cac",
   "metadata": {},
   "source": [
    "We can also test for equality. Is `x` equal to `42`?"
   ]
  },
  {
   "cell_type": "code",
   "execution_count": 4,
   "id": "788198b2",
   "metadata": {},
   "outputs": [
    {
     "data": {
      "text/plain": [
       "False"
      ]
     },
     "execution_count": 4,
     "metadata": {},
     "output_type": "execute_result"
    }
   ],
   "source": [
    "x == 42"
   ]
  },
  {
   "cell_type": "code",
   "execution_count": 5,
   "id": "cb0db7bc",
   "metadata": {},
   "outputs": [
    {
     "data": {
      "text/plain": [
       "True"
      ]
     },
     "execution_count": 5,
     "metadata": {},
     "output_type": "execute_result"
    }
   ],
   "source": [
    "x == 11"
   ]
  },
  {
   "cell_type": "markdown",
   "id": "85c23215",
   "metadata": {},
   "source": [
    "Finally, we can test for *inequality*. (We test whether it is true that x is *not* equal to a specific number). "
   ]
  },
  {
   "cell_type": "code",
   "execution_count": 6,
   "id": "c6149376",
   "metadata": {},
   "outputs": [
    {
     "data": {
      "text/plain": [
       "True"
      ]
     },
     "execution_count": 6,
     "metadata": {},
     "output_type": "execute_result"
    }
   ],
   "source": [
    "x != 42"
   ]
  },
  {
   "cell_type": "markdown",
   "id": "8e839816",
   "metadata": {},
   "source": [
    "The exclamation point here means \"not\", so the experession `x != 42` can be read as \"is x not equal to 42?\"\n",
    "\n",
    "And the answer is \"That's `True`! The variable `x` is not equal to 42!\""
   ]
  },
  {
   "cell_type": "markdown",
   "id": "6f2ac065",
   "metadata": {},
   "source": [
    "Now you test `x` to see if it's not equal to `11`. Is it?"
   ]
  },
  {
   "cell_type": "code",
   "execution_count": 7,
   "id": "a94788e1",
   "metadata": {},
   "outputs": [
    {
     "data": {
      "text/plain": [
       "False"
      ]
     },
     "execution_count": 7,
     "metadata": {},
     "output_type": "execute_result"
    }
   ],
   "source": [
    "x != 11"
   ]
  },
  {
   "cell_type": "markdown",
   "id": "ce9b435d",
   "metadata": {},
   "source": [
    "As you might have noticed, all these operations are *built in.* This means that we did not have to import any specific package to access the operations. Python provides these operations as they are core functionality, the bread and butter of most users, or better said, of most programmers. Like you!"
   ]
  },
  {
   "cell_type": "markdown",
   "id": "836629ad",
   "metadata": {},
   "source": [
    "#### Logical operators\n",
    "\n",
    "So far we have been dealing with testing operations on single numbers. Often times it is important to be able to test multiple operations and compare them, say if `a > 0` **`and`** `b < 0`.  Operations that compare or combine two statements are called **logical**. Logical operations such as `and` and `or` are extremely important and widely used in computer programming, mathematics, neuroscience and in real life.\n",
    "\n",
    "Python provides binary operations `built in`, so there is not requirement to import a specific library."
   ]
  },
  {
   "cell_type": "markdown",
   "id": "ab93176e",
   "metadata": {},
   "source": [
    "Imagine wanting to compare the number of cake slices eaten per day by the average individual in three different countries."
   ]
  },
  {
   "cell_type": "code",
   "execution_count": 8,
   "id": "2e7971d8",
   "metadata": {},
   "outputs": [],
   "source": [
    "# average number of cake slices eaten in \n",
    "USA = 3  # the United States of America\n",
    "IT = 2   # Italy\n",
    "CA = 4   # Canada "
   ]
  },
  {
   "cell_type": "markdown",
   "id": "e686c752",
   "metadata": {},
   "source": [
    "Imagine wanting to know if BOTH the USA AND Canada eat more cake than Italy. We can first compare if the average citozen eat more cake in Italy or the USA:"
   ]
  },
  {
   "cell_type": "code",
   "execution_count": 9,
   "id": "ac5b3a01",
   "metadata": {},
   "outputs": [
    {
     "data": {
      "text/plain": [
       "True"
      ]
     },
     "execution_count": 9,
     "metadata": {},
     "output_type": "execute_result"
    }
   ],
   "source": [
    "(USA > IT) "
   ]
  },
  {
   "cell_type": "markdown",
   "id": "d03de9c5",
   "metadata": {},
   "source": [
    "Alright, it looks like more cake is eaten in the USA. What about Canada?"
   ]
  },
  {
   "cell_type": "code",
   "execution_count": 10,
   "id": "3e356893",
   "metadata": {},
   "outputs": [
    {
     "data": {
      "text/plain": [
       "True"
      ]
     },
     "execution_count": 10,
     "metadata": {},
     "output_type": "execute_result"
    }
   ],
   "source": [
    "(CA > IT)"
   ]
  },
  {
   "cell_type": "markdown",
   "id": "3ae2d010",
   "metadata": {},
   "source": [
    "If we wanted to compare both the USA and Canada at the same time, in python we could conveniently write the operation as follows: "
   ]
  },
  {
   "cell_type": "code",
   "execution_count": 11,
   "id": "60f940f3",
   "metadata": {},
   "outputs": [
    {
     "data": {
      "text/plain": [
       "True"
      ]
     },
     "execution_count": 11,
     "metadata": {},
     "output_type": "execute_result"
    }
   ],
   "source": [
    "(USA > IT) and (CA > IT)"
   ]
  },
  {
   "cell_type": "markdown",
   "id": "7e598abb",
   "metadata": {},
   "source": [
    "The statment about is *only* true if *both* statements are true. Let's test it."
   ]
  },
  {
   "cell_type": "code",
   "execution_count": 12,
   "id": "9aea94b6",
   "metadata": {},
   "outputs": [
    {
     "data": {
      "text/plain": [
       "False"
      ]
     },
     "execution_count": 12,
     "metadata": {},
     "output_type": "execute_result"
    }
   ],
   "source": [
    "# We will use a temporary value for canada and \n",
    "# then repeat the logical operation with the new value\n",
    "CA_temp = 1\n",
    "(USA > IT) and (CA_temp > IT)"
   ]
  },
  {
   "cell_type": "markdown",
   "id": "f22c99bc",
   "metadata": {},
   "source": [
    "OK what happened there is that whereas the first statement was true (3 > 2 slices of cake) the second was not true (1 is not more then 2 slices of cake) and the whole statement returned `False`. The `and` operator returns `True` only if all composing statements return `True`."
   ]
  },
  {
   "cell_type": "markdown",
   "id": "2b0620ae",
   "metadata": {},
   "source": [
    "Another logical operation of Key value `OR`. `OR` returns `True` if only one of the two statements is`True`, even if the other is `False`. We can try it: "
   ]
  },
  {
   "cell_type": "code",
   "execution_count": 13,
   "id": "d396d15b",
   "metadata": {},
   "outputs": [
    {
     "data": {
      "text/plain": [
       "True"
      ]
     },
     "execution_count": 13,
     "metadata": {},
     "output_type": "execute_result"
    }
   ],
   "source": [
    "CA_temp = 1\n",
    "(USA > IT) or (CA_temp > IT)"
   ]
  },
  {
   "cell_type": "markdown",
   "id": "0aed2e7f",
   "metadata": {},
   "source": [
    "What do you expect would be the result if you were to run `or` between the original statements:\n",
    " - `(USA > IT)`\n",
    " - `(CA > IT)` \n",
    " \n",
    " Try this out:"
   ]
  },
  {
   "cell_type": "code",
   "execution_count": 15,
   "id": "d0f2bd04",
   "metadata": {},
   "outputs": [
    {
     "data": {
      "text/plain": [
       "True"
      ]
     },
     "execution_count": 15,
     "metadata": {},
     "output_type": "execute_result"
    }
   ],
   "source": [
    "(USA > IT) or (CA > IT) # IT would still be true because the first statement is still correct."
   ]
  },
  {
   "cell_type": "markdown",
   "id": "5d3e2a1b",
   "metadata": {},
   "source": [
    "Another helpful operator, often used in similar questions is `not`. The `not` operator is a modifier that changes the value of the output of other operators suchas `>`, `=`, `and`, etc. \n",
    "\n",
    "For example, if `not` is used, the number of slices of cake eaten by the average citizen in Canada is **not** more than those eaten in the USA:"
   ]
  },
  {
   "cell_type": "code",
   "execution_count": 16,
   "id": "2e442d2d",
   "metadata": {},
   "outputs": [
    {
     "data": {
      "text/plain": [
       "False"
      ]
     },
     "execution_count": 16,
     "metadata": {},
     "output_type": "execute_result"
    }
   ],
   "source": [
    "not(CA > USA)"
   ]
  },
  {
   "cell_type": "markdown",
   "id": "d4ce058b",
   "metadata": {},
   "source": [
    "Whereas this is is obeviously `True`"
   ]
  },
  {
   "cell_type": "code",
   "execution_count": 17,
   "id": "8ca7b2b6",
   "metadata": {},
   "outputs": [
    {
     "data": {
      "text/plain": [
       "True"
      ]
     },
     "execution_count": 17,
     "metadata": {},
     "output_type": "execute_result"
    }
   ],
   "source": [
    "(CA > USA)"
   ]
  },
  {
   "cell_type": "markdown",
   "id": "0947b390",
   "metadata": {},
   "source": [
    "So, I like to think about `not` as a modifier. It can become useful in many cases, especially when the output of two or more statments needs to be modified (flipped) for the code to advance. For example, the following code shows how three boolean statements (all set to `True`) can be modified but a boolean `not` to save my health."
   ]
  },
  {
   "cell_type": "code",
   "execution_count": 18,
   "id": "6fcc8c83",
   "metadata": {},
   "outputs": [
    {
     "data": {
      "text/plain": [
       "False"
      ]
     },
     "execution_count": 18,
     "metadata": {},
     "output_type": "execute_result"
    }
   ],
   "source": [
    "# Save my belly\n",
    "ihaveeatencake = True\n",
    "itislatenight = True\n",
    "ididnotexercisetoday = True\n",
    "\n",
    "INeedToEatCake = not(ihaveeatencake and itislatenight and ididnotexercisetoday)\n",
    "INeedToEatCake"
   ]
  },
  {
   "cell_type": "markdown",
   "id": "ded2ac3c",
   "metadata": {},
   "source": [
    "#### if, then statements\n",
    "\n",
    "Fundamental to any mature software or code system is the ability to express conditional statements such as `if`, `then` statements. These are among the most basic building blocks of coding, as they allow controlling the flow and allowing a certain operations to occur. For example, operation `a` might be performed only `if` a specific condition 'C' is met. Say, I can eat my cake only if I have been diligent and went out for a nice and long run today."
   ]
  },
  {
   "cell_type": "markdown",
   "id": "2148c428",
   "metadata": {},
   "source": [
    "A couple of basic numerical examples can get us started."
   ]
  },
  {
   "cell_type": "code",
   "execution_count": 19,
   "id": "766b0b79",
   "metadata": {},
   "outputs": [
    {
     "name": "stdout",
     "output_type": "stream",
     "text": [
      "Nope, small!\n"
     ]
    }
   ],
   "source": [
    "x = 3\n",
    "a_big_number = 100\n",
    "\n",
    "if x > 5 :\n",
    "    print('Yes, it is a big number!')\n",
    "else :\n",
    "    print('Nope, small!')"
   ]
  },
  {
   "cell_type": "markdown",
   "id": "133dea2b",
   "metadata": {},
   "source": [
    "We can even add another test using the elif (\"else if\") statement. When measuring the temperature in Austin TX, we would say:"
   ]
  },
  {
   "cell_type": "code",
   "execution_count": 20,
   "id": "0341c2e5",
   "metadata": {},
   "outputs": [
    {
     "name": "stdout",
     "output_type": "stream",
     "text": [
      "Just right!\n"
     ]
    }
   ],
   "source": [
    "current_temp = 70\n",
    "\n",
    "if current_temp >= 90 :\n",
    "    print('Too hot!')\n",
    "elif current_temp <= 50 :\n",
    "    print('Too cold!')\n",
    "else :\n",
    "    print('Just right!')"
   ]
  },
  {
   "cell_type": "markdown",
   "id": "94c6a0ad",
   "metadata": {},
   "source": [
    "`If, then` statements can be combined with logical operators also and help manage complex decisions in a matter of a few lines:"
   ]
  },
  {
   "cell_type": "code",
   "execution_count": 21,
   "id": "6881fe80",
   "metadata": {},
   "outputs": [
    {
     "name": "stdout",
     "output_type": "stream",
     "text": [
      "Too cold! I will take the car or walk.\n"
     ]
    }
   ],
   "source": [
    "current_temp = 45\n",
    "if not( (current_temp >= 90) or (current_temp <= 50) ) : \n",
    "    print('I will ride my bicycle to school!')\n",
    "else :\n",
    "    print('Too cold! I will take the car or walk.')"
   ]
  },
  {
   "cell_type": "markdown",
   "id": "7c77ffa8",
   "metadata": {},
   "source": [
    "To practice with `if`, `then` statements, write code that when asked if we should eat cake returns `True` only if we have eaten less then 2 slices of cake today and no cake yesterday and the day before yesterday. The code should otherwise tell us to eat soup."
   ]
  },
  {
   "cell_type": "code",
   "execution_count": 24,
   "id": "acc9bb4d",
   "metadata": {},
   "outputs": [],
   "source": [
    "cakesEatenToday = 1\n",
    "eatenCakeYesterday = False\n",
    "eatenCakeYesterdayY = False"
   ]
  },
  {
   "cell_type": "code",
   "execution_count": 25,
   "id": "af350e32",
   "metadata": {},
   "outputs": [
    {
     "name": "stdout",
     "output_type": "stream",
     "text": [
      "Eat Cake\n"
     ]
    }
   ],
   "source": [
    "if (cakesEatenToday >= 2): \n",
    "    print(\"Eat soup\")\n",
    "elif (eatenCakeYesterday):\n",
    "    print(\"Eat soup\")\n",
    "elif (eatenCakeYesterdayY):\n",
    "    print(\"Eat soup\")\n",
    "else: \n",
    "    print(\"Eat Cake\")"
   ]
  },
  {
   "cell_type": "markdown",
   "id": "feba47f1",
   "metadata": {},
   "source": [
    "Again, all these operations are *built in* this means that we did not have to import any specific package. Python provides these basic operations as they are the bread and butter of most users, or better said, of most programmers, like you."
   ]
  },
  {
   "cell_type": "markdown",
   "id": "4335bd14",
   "metadata": {},
   "source": [
    "#### Operators on NumPy arrays\n",
    "\n",
    "There are other types of operators that do not come standard with Python but that are part of other packages and need to be imported. These operators behave differently.\n",
    "\n",
    "When dealing with arrays, instead of individual numbers, things look slightly different. For example, if we wanted to perform a logical operation between two sets of numbers, e.g., two arrays, operatiors (`=`, `>`, etc) will work sometimes but not others. \n",
    "\n",
    "Let's take a look at how we would perform comparisons and logical operations with NumPy arrays."
   ]
  },
  {
   "cell_type": "code",
   "execution_count": 26,
   "id": "abbd13f4",
   "metadata": {},
   "outputs": [],
   "source": [
    "import numpy as np # We import NumPy as we are working on arrays"
   ]
  },
  {
   "cell_type": "code",
   "execution_count": 27,
   "id": "b8318324",
   "metadata": {},
   "outputs": [
    {
     "data": {
      "text/plain": [
       "array([[-0.73078323,  0.05270227,  0.16934702,  0.23690016,  0.40593133]])"
      ]
     },
     "execution_count": 27,
     "metadata": {},
     "output_type": "execute_result"
    }
   ],
   "source": [
    "myRnds = np.random.randn(1, 5) # we create an array of random numbers\n",
    "myRnds"
   ]
  },
  {
   "cell_type": "markdown",
   "id": "4011cf27",
   "metadata": {},
   "source": [
    "Now, imagine we wanted to know whether each number stored in the Array `myRnds` is positive. "
   ]
  },
  {
   "cell_type": "code",
   "execution_count": 28,
   "id": "bf372588",
   "metadata": {},
   "outputs": [
    {
     "data": {
      "text/plain": [
       "array([[False,  True,  True,  True,  True]])"
      ]
     },
     "execution_count": 28,
     "metadata": {},
     "output_type": "execute_result"
    }
   ],
   "source": [
    "myRnds > 0"
   ]
  },
  {
   "cell_type": "markdown",
   "id": "ea814953",
   "metadata": {},
   "source": [
    "If we wanted to find out whether any of the numbers in an array are positive, we would use the numpy array method `any`:"
   ]
  },
  {
   "cell_type": "code",
   "execution_count": 35,
   "id": "97b190b4",
   "metadata": {},
   "outputs": [
    {
     "data": {
      "text/plain": [
       "array([[False,  True,  True,  True,  True]])"
      ]
     },
     "execution_count": 35,
     "metadata": {},
     "output_type": "execute_result"
    }
   ],
   "source": [
    "logical_array = (myRnds > 0)\n",
    "np.any(logical_array) # used for any numbers\n",
    "logical_array"
   ]
  },
  {
   "cell_type": "markdown",
   "id": "3850275e",
   "metadata": {},
   "source": [
    "If we wanted to test whether all the values in an array are positive, we would use the method `all`. "
   ]
  },
  {
   "cell_type": "code",
   "execution_count": 36,
   "id": "404039ee",
   "metadata": {},
   "outputs": [
    {
     "data": {
      "text/plain": [
       "False"
      ]
     },
     "execution_count": 36,
     "metadata": {},
     "output_type": "execute_result"
    }
   ],
   "source": [
    "np.all(logical_array)"
   ]
  },
  {
   "cell_type": "markdown",
   "id": "2b64f0e3",
   "metadata": {},
   "source": [
    "Because both `all` and `any` apply to numpy atrays, they can also be called as methods of a NumPy Arrays. For example:"
   ]
  },
  {
   "cell_type": "code",
   "execution_count": 37,
   "id": "a4a6853f",
   "metadata": {},
   "outputs": [
    {
     "data": {
      "text/plain": [
       "True"
      ]
     },
     "execution_count": 37,
     "metadata": {},
     "output_type": "execute_result"
    }
   ],
   "source": [
    "logical_array.any()"
   ]
  },
  {
   "cell_type": "code",
   "execution_count": 38,
   "id": "5e823fba",
   "metadata": {},
   "outputs": [
    {
     "data": {
      "text/plain": [
       "False"
      ]
     },
     "execution_count": 38,
     "metadata": {},
     "output_type": "execute_result"
    }
   ],
   "source": [
    "logical_array.all()"
   ]
  },
  {
   "cell_type": "markdown",
   "id": "d73f38f0",
   "metadata": {},
   "source": [
    "Numpy arrays also allow comparing values element-wise. This means that we could compare each element of one array with the corresponding element of another array. If the twovectors have the same size.\n",
    "\n",
    "`[1, 2, 3] = [1, 4, 3]`\n",
    "\n",
    "Would compare 1 to 1, 2 to 4 and 3 to 3."
   ]
  },
  {
   "cell_type": "code",
   "execution_count": 45,
   "id": "4fc09ff0",
   "metadata": {},
   "outputs": [
    {
     "name": "stdout",
     "output_type": "stream",
     "text": [
      "array one [[ 2.02702824  0.488657   -1.12418909  0.82150726 -0.71125294]]\n",
      "array two [[ 0.06942846  0.01664856 -0.42453346 -0.29556129 -0.05570331]]\n"
     ]
    },
    {
     "data": {
      "text/plain": [
       "array([[ True,  True,  True,  True,  True]])"
      ]
     },
     "execution_count": 45,
     "metadata": {},
     "output_type": "execute_result"
    }
   ],
   "source": [
    "array_one = np.random.randn(1,5);\n",
    "array_two = np.random.randn(1,5);\n",
    "print(\"array one\", array_one)\n",
    "print(\"array two\", array_two)\n",
    "np.logical_and(array_one, array_two) # TESTING TO SEE IF THEY ARE ALL TRUE (POSITVIE (+) and NEGATIVE (-) are considered TRUE)"
   ]
  },
  {
   "cell_type": "markdown",
   "id": "d73b393f",
   "metadata": {},
   "source": [
    "What happens if the two arrays have different size, though?"
   ]
  },
  {
   "cell_type": "code",
   "execution_count": 46,
   "id": "14883fd6",
   "metadata": {},
   "outputs": [
    {
     "ename": "ValueError",
     "evalue": "operands could not be broadcast together with shapes (1,6) (1,5) ",
     "output_type": "error",
     "traceback": [
      "\u001b[1;31m---------------------------------------------------------------------------\u001b[0m",
      "\u001b[1;31mValueError\u001b[0m                                Traceback (most recent call last)",
      "\u001b[1;32m~\\AppData\\Local\\Temp/ipykernel_12760/1477714287.py\u001b[0m in \u001b[0;36m<module>\u001b[1;34m\u001b[0m\n\u001b[0;32m      1\u001b[0m \u001b[0mvector_one\u001b[0m \u001b[1;33m=\u001b[0m \u001b[0mnp\u001b[0m\u001b[1;33m.\u001b[0m\u001b[0mrandom\u001b[0m\u001b[1;33m.\u001b[0m\u001b[0mrandn\u001b[0m\u001b[1;33m(\u001b[0m\u001b[1;36m1\u001b[0m\u001b[1;33m,\u001b[0m\u001b[1;36m6\u001b[0m\u001b[1;33m)\u001b[0m\u001b[1;33m;\u001b[0m\u001b[1;33m\u001b[0m\u001b[1;33m\u001b[0m\u001b[0m\n\u001b[0;32m      2\u001b[0m \u001b[0mvector_two\u001b[0m \u001b[1;33m=\u001b[0m \u001b[0mnp\u001b[0m\u001b[1;33m.\u001b[0m\u001b[0mrandom\u001b[0m\u001b[1;33m.\u001b[0m\u001b[0mrandn\u001b[0m\u001b[1;33m(\u001b[0m\u001b[1;36m1\u001b[0m\u001b[1;33m,\u001b[0m\u001b[1;36m5\u001b[0m\u001b[1;33m)\u001b[0m\u001b[1;33m;\u001b[0m\u001b[1;33m\u001b[0m\u001b[1;33m\u001b[0m\u001b[0m\n\u001b[1;32m----> 3\u001b[1;33m \u001b[0mnp\u001b[0m\u001b[1;33m.\u001b[0m\u001b[0mlogical_and\u001b[0m\u001b[1;33m(\u001b[0m\u001b[0mvector_one\u001b[0m\u001b[1;33m,\u001b[0m \u001b[0mvector_two\u001b[0m\u001b[1;33m)\u001b[0m\u001b[1;33m\u001b[0m\u001b[1;33m\u001b[0m\u001b[0m\n\u001b[0m",
      "\u001b[1;31mValueError\u001b[0m: operands could not be broadcast together with shapes (1,6) (1,5) "
     ]
    }
   ],
   "source": [
    "vector_one = np.random.randn(1,6);\n",
    "vector_two = np.random.randn(1,5);\n",
    "np.logical_and(vector_one, vector_two)"
   ]
  },
  {
   "cell_type": "markdown",
   "id": "5c670b0c",
   "metadata": {},
   "source": [
    "The not and or operators also exist for numpy arrays:"
   ]
  },
  {
   "cell_type": "code",
   "execution_count": 47,
   "id": "71b175dd",
   "metadata": {},
   "outputs": [
    {
     "data": {
      "text/plain": [
       "array([[ True,  True,  True,  True,  True]])"
      ]
     },
     "execution_count": 47,
     "metadata": {},
     "output_type": "execute_result"
    }
   ],
   "source": [
    "vector_one = np.random.randn(1,5);\n",
    "vector_two = np.random.randn(1,5);\n",
    "np.logical_or(vector_one, vector_two)"
   ]
  },
  {
   "cell_type": "code",
   "execution_count": 51,
   "id": "c046dd27",
   "metadata": {},
   "outputs": [
    {
     "name": "stdout",
     "output_type": "stream",
     "text": [
      "vector one [[False  True False  True  True]]\n",
      "vector two [[ True  True  True  True  True]]\n"
     ]
    },
    {
     "data": {
      "text/plain": [
       "array([[ True, False,  True, False, False]])"
      ]
     },
     "execution_count": 51,
     "metadata": {},
     "output_type": "execute_result"
    }
   ],
   "source": [
    "vector_one = np.random.randn(1,5) > 0;\n",
    "vector_two = np.random.randn(1,5) > 0;\n",
    "print(\"vector one\", vector_one)\n",
    "print(\"vector two\", vector_two)\n",
    "np.logical_not(vector_one, vector_two) # HAVE TO ASK TO MAKE SURE ABOUT THIS!"
   ]
  },
  {
   "cell_type": "markdown",
   "id": "98afa6bc",
   "metadata": {},
   "source": [
    "### Control Flow: while loops"
   ]
  },
  {
   "cell_type": "markdown",
   "id": "e822bd3b",
   "metadata": {},
   "source": [
    "The final concept and coding skill we will learn today is the `while` loop."
   ]
  },
  {
   "cell_type": "markdown",
   "id": "49f3cb0c",
   "metadata": {},
   "source": [
    "#### while loops\n",
    "\n",
    "In tutorial 12, we have taclked the idea of `for` loops. For loops are excellent if we have a good idea of when to stop. If, for example, we are computing a sum between the number 10 and 20, we know already that our for-loop will last for 10 numbers."
   ]
  },
  {
   "cell_type": "code",
   "execution_count": 52,
   "id": "8a105156",
   "metadata": {},
   "outputs": [
    {
     "name": "stdout",
     "output_type": "stream",
     "text": [
      "The current sum at element  10  is  20 (j is 0 )\n",
      "The current sum at element  11  is  22 (j is 1 )\n",
      "The current sum at element  12  is  24 (j is 2 )\n",
      "The current sum at element  13  is  26 (j is 3 )\n",
      "The current sum at element  14  is  28 (j is 4 )\n",
      "The current sum at element  15  is  30 (j is 5 )\n",
      "The current sum at element  16  is  32 (j is 6 )\n",
      "The current sum at element  17  is  34 (j is 7 )\n",
      "The current sum at element  18  is  36 (j is 8 )\n",
      "The current sum at element  19  is  38 (j is 9 )\n"
     ]
    }
   ],
   "source": [
    "aList = np.arange(10,20);\n",
    "j = 0\n",
    "for i in aList :    \n",
    "    s = i + aList[j] \n",
    "    print('The current sum at element ', i, ' is ', s, '(j is',j,')')\n",
    "    j = j+1"
   ]
  },
  {
   "cell_type": "markdown",
   "id": "6d9cea65",
   "metadata": {},
   "source": [
    "In many situations the length of a loop might be unkown before entering the loop. Instead, it might be known that the loop will need to be ended, if a specific condition is met. For example, if we were not in the position to know how many people live in the city of Austin, TX, but we wanted to ask each one of them if they have eaten any cake today, we could could use a while loop. We would continue asking while meeting people that we hve not met before. \n",
    "\n",
    "In reality, often times it is possible to rewrite a `while` loop as a `for` loop. But there are useful differences between the two loops and for that reason they have both survived."
   ]
  },
  {
   "cell_type": "markdown",
   "id": "276c7397",
   "metadata": {},
   "source": [
    "To show how a `while` loop would work, imagine if I wanted to know if I have eaten more than 14 slices of pizza in the past two weeks (why pizza now? Because we can, pizza is good, too much cake already anyways). Let's assume that I eat 1 slice of pizza per day:"
   ]
  },
  {
   "cell_type": "code",
   "execution_count": 53,
   "id": "25fb43f4",
   "metadata": {},
   "outputs": [
    {
     "name": "stdout",
     "output_type": "stream",
     "text": [
      "today is day #, 1 so far I ate 1 pizzas\n",
      "today is day #, 2 so far I ate 2 pizzas\n",
      "today is day #, 3 so far I ate 3 pizzas\n",
      "today is day #, 4 so far I ate 4 pizzas\n",
      "today is day #, 5 so far I ate 5 pizzas\n",
      "today is day #, 6 so far I ate 6 pizzas\n",
      "today is day #, 7 so far I ate 7 pizzas\n",
      "today is day #, 8 so far I ate 8 pizzas\n",
      "today is day #, 9 so far I ate 9 pizzas\n",
      "today is day #, 10 so far I ate 10 pizzas\n",
      "today is day #, 11 so far I ate 11 pizzas\n",
      "today is day #, 12 so far I ate 12 pizzas\n",
      "today is day #, 13 so far I ate 13 pizzas\n"
     ]
    }
   ],
   "source": [
    "day = 1\n",
    "pizza = 0\n",
    "while day < 14:\n",
    "  pizza = pizza + 1\n",
    "  print('today is day #,', day, 'so far I ate', pizza, 'pizzas')\n",
    "  day += 1"
   ]
  },
  {
   "cell_type": "markdown",
   "id": "255b62bf",
   "metadata": {},
   "source": [
    "The syntax of a `while` loop is similar but different than a `for` loop. In this, because of the type of question i asked, I could have asked the same question using a `for` loop. Try practicing, rewrite the above statement using a `for` loop instead of the `while` loop. "
   ]
  },
  {
   "cell_type": "code",
   "execution_count": 56,
   "id": "f6d80085",
   "metadata": {},
   "outputs": [
    {
     "name": "stdout",
     "output_type": "stream",
     "text": [
      "today is day #, 1 so far I ate 1 pizzas\n",
      "today is day #, 2 so far I ate 2 pizzas\n",
      "today is day #, 3 so far I ate 3 pizzas\n",
      "today is day #, 4 so far I ate 4 pizzas\n",
      "today is day #, 5 so far I ate 5 pizzas\n",
      "today is day #, 6 so far I ate 6 pizzas\n",
      "today is day #, 7 so far I ate 7 pizzas\n",
      "today is day #, 8 so far I ate 8 pizzas\n",
      "today is day #, 9 so far I ate 9 pizzas\n",
      "today is day #, 10 so far I ate 10 pizzas\n",
      "today is day #, 11 so far I ate 11 pizzas\n",
      "today is day #, 12 so far I ate 12 pizzas\n",
      "today is day #, 13 so far I ate 13 pizzas\n"
     ]
    }
   ],
   "source": [
    "day = 1\n",
    "pizza = 0\n",
    "for i in range(13): # REMEMBER RANGE DOES NOT INCLUDE THE LAST VALUE AND STARTS AT 0\n",
    "  pizza = pizza + 1\n",
    "  print('today is day #,', day, 'so far I ate', pizza, 'pizzas')\n",
    "  day += 1"
   ]
  },
  {
   "cell_type": "markdown",
   "id": "e2d5a317",
   "metadata": {},
   "source": [
    "In general, `while` loops are used when the number of times it will be necessary to iterate is unkown, but the condition which determines the end of the loop is known. The `for` loop instead is used when the number of times the loop will have titerate over is known. Independently of whether the condition to exit the iteration is known or not. \n",
    "\n",
    "Sometimes, `while` loops provide convenient ways to specify conditions explicitly. For example, we can break a `while` loop in the middle of it if a condition is met:"
   ]
  },
  {
   "cell_type": "code",
   "execution_count": 57,
   "id": "9573012f",
   "metadata": {},
   "outputs": [
    {
     "name": "stdout",
     "output_type": "stream",
     "text": [
      "The counter is 1 The exit value is 6\n",
      "The counter is 2 The exit value is 6\n",
      "The counter is 3 The exit value is 6\n",
      "The counter is 4 The exit value is 6\n",
      "The counter is 5 The exit value is 6\n",
      "The counter is 6 The exit value is 6\n"
     ]
    }
   ],
   "source": [
    "# here we break the loop (using the break command) \n",
    "# if the counter is equal to a certain exit value\n",
    "counter = 1\n",
    "exit_val = 6\n",
    "while counter < 20:\n",
    "  print('The counter is',counter,'The exit value is', exit_val)\n",
    "  if counter == exit_val:\n",
    "    break\n",
    "  counter += 1"
   ]
  },
  {
   "cell_type": "markdown",
   "id": "0d15b2ec",
   "metadata": {},
   "source": [
    "Try rewriting the above loop as a `for` loop. Is the code easier to read than the one above?"
   ]
  },
  {
   "cell_type": "code",
   "execution_count": 59,
   "id": "fa7bc40e",
   "metadata": {},
   "outputs": [
    {
     "name": "stdout",
     "output_type": "stream",
     "text": [
      "The counter is 1 The exit value is 6\n",
      "The counter is 2 The exit value is 6\n",
      "The counter is 3 The exit value is 6\n",
      "The counter is 4 The exit value is 6\n",
      "The counter is 5 The exit value is 6\n",
      "The counter is 6 The exit value is 6\n"
     ]
    }
   ],
   "source": [
    "counter = 1\n",
    "exit_val = 6\n",
    "for i in range(exit_val):\n",
    "  print('The counter is',counter,'The exit value is', exit_val)\n",
    "  if counter == exit_val:\n",
    "    break\n",
    "  counter += 1\n",
    "# THIS ONE IS SLIGHTLY HARDER TO READ THAN THE PREVIOUS ONE I THINK!!! ASK PROFESSOR!"
   ]
  },
  {
   "cell_type": "code",
   "execution_count": 61,
   "id": "643f8969",
   "metadata": {},
   "outputs": [
    {
     "name": "stdout",
     "output_type": "stream",
     "text": [
      "The counter is 1 The value is 6\n",
      "The counter is 2 The value is 6\n",
      "The counter is 3 The value is 6\n",
      "The counter is 4 The value is 6\n",
      "The counter is 5 The value is 6\n",
      "The counter is 7 The value is 6\n",
      "The counter is 8 The value is 6\n",
      "The counter is 9 The value is 6\n",
      "The counter is 10 The value is 6\n",
      "The counter is 11 The value is 6\n",
      "The counter is 12 The value is 6\n",
      "The counter is 13 The value is 6\n",
      "The counter is 14 The value is 6\n",
      "The counter is 15 The value is 6\n",
      "The counter is 16 The value is 6\n",
      "The counter is 17 The value is 6\n",
      "The counter is 18 The value is 6\n",
      "The counter is 19 The value is 6\n",
      "The counter is 20 The value is 6\n"
     ]
    }
   ],
   "source": [
    "# here we continue the loop (using the continue command) \n",
    "# if the counter is equal to a certain value\n",
    "counter = 0\n",
    "val = 6\n",
    "while counter < 20:\n",
    "   counter += 1\n",
    "   if counter == val:\n",
    "    continue           # DOESNT EXIT, SO KEEPS ON CONTINUING TO THE END.\n",
    "   print('The counter is',counter,'The value is', val)"
   ]
  },
  {
   "cell_type": "markdown",
   "id": "5919c6ca",
   "metadata": {},
   "source": [
    "In reality, we could have used the `brake` command also in combination with a `for` loop. So, the situations where a while and for loop diverge are limited. Yet, one or the other are often times preferable, especially for clarity of programming style (e.g., your colleagues reading your code will be happier, if you write simple, easy to read code)."
   ]
  },
  {
   "cell_type": "markdown",
   "id": "197064e9",
   "metadata": {},
   "source": [
    "Below one last example with the `while` loop. The loop offers the ability to end with an `else` just like an `if` statement. "
   ]
  },
  {
   "cell_type": "code",
   "execution_count": 62,
   "id": "6e76858a",
   "metadata": {},
   "outputs": [
    {
     "name": "stdout",
     "output_type": "stream",
     "text": [
      "We write INSIDE becuase we are inside the while loop.\n",
      "We write INSIDE becuase we are inside the while loop.\n",
      "We write INSIDE becuase we are inside the while loop.\n",
      "We write INSIDE becuase we are inside the while loop.\n",
      "We write INSIDE becuase we are inside the while loop.\n",
      "We write INSIDE becuase we are inside the while loop.\n",
      "We write INSIDE becuase we are inside the while loop.\n",
      "We write INSIDE becuase we are inside the while loop.\n",
      "We write INSIDE becuase we are inside the while loop.\n",
      "We write INSIDE becuase we are inside the while loop.\n",
      "We write END because we have exited the while loop and are inside the else statement\n"
     ]
    }
   ],
   "source": [
    "counter = 0\n",
    "\n",
    "while counter < 10 :\n",
    "    print(\"We write INSIDE becuase we are inside the while loop.\")\n",
    "    counter = counter + 1\n",
    "else:\n",
    "    print(\"We write END because we have exited the while loop and are inside the else statement\")"
   ]
  },
  {
   "cell_type": "markdown",
   "id": "cafcc3d9",
   "metadata": {},
   "source": [
    "Try writing a while loop that exits if a random number is positive. How would you do that?"
   ]
  },
  {
   "cell_type": "code",
   "execution_count": 70,
   "id": "7d741b6d",
   "metadata": {},
   "outputs": [
    {
     "name": "stdout",
     "output_type": "stream",
     "text": [
      "We write INSIDE becuase we are inside the while loop.\n"
     ]
    }
   ],
   "source": [
    "counter = 0\n",
    "temp = np.random.randn()\n",
    "while counter < 10 :\n",
    "    print(\"We write INSIDE becuase we are inside the while loop.\")\n",
    "    if temp < 0:\n",
    "        break\n",
    "    counter = counter + 1\n",
    "else: # Only works if while statement is turned false.\n",
    "    print(\"We write END because we have exited the while loop and are inside the else statement\")"
   ]
  },
  {
   "cell_type": "code",
   "execution_count": null,
   "id": "5ec9ed44",
   "metadata": {},
   "outputs": [],
   "source": []
  },
  {
   "cell_type": "code",
   "execution_count": null,
   "id": "2caec696",
   "metadata": {},
   "outputs": [],
   "source": []
  }
 ],
 "metadata": {
  "kernelspec": {
   "display_name": "Python 3 (ipykernel)",
   "language": "python",
   "name": "python3"
  },
  "language_info": {
   "codemirror_mode": {
    "name": "ipython",
    "version": 3
   },
   "file_extension": ".py",
   "mimetype": "text/x-python",
   "name": "python",
   "nbconvert_exporter": "python",
   "pygments_lexer": "ipython3",
   "version": "3.9.7"
  }
 },
 "nbformat": 4,
 "nbformat_minor": 5
}
