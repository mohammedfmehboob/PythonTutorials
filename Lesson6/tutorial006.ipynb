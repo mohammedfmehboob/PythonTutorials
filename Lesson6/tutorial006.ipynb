{
 "cells": [
  {
   "cell_type": "markdown",
   "id": "ebe72e68",
   "metadata": {},
   "source": [
    "## Reading and writing data files"
   ]
  },
  {
   "cell_type": "markdown",
   "id": "5fc18069",
   "metadata": {},
   "source": [
    "This is more generally known as 'file i/o\" where \"i\" and \"o\" stand for input and output, respectively.  \n",
    "Why do we need to do file i/o?\n",
    "\n",
    "##### File input\n",
    "\n",
    "The input case is more obvious. To analyze data, you need data to analyze. Unless you know magic, you access data from  *data files*, which are files just like a PDF or whatever, but they are specialized to some degree for containing data. Whether from a colleague, a boss, a webpage, or a government data repository, data will come in a data file that you will need to read as input in order visualize and analyze the data.\n",
    "\n",
    "##### File output\n",
    "\n",
    "The output case is perhaps less obvious. You read data into your Jupyter Notebook, you make pretty graphs, you do some cool analysis, and then you show it off to some people. You're done, right? But what if you want to share the numerical values of the analysis with someone else? If you can write those values to a data file and just send that, then they can read in the values on their end without having to wade through your notebook and cutting and pasting or whatever.  \n",
    "\n",
    "Alternatively, you may have improved a data set by adding a few informative columns. If you can write the data out to a data file, then you can share it, and everybody else can use and enjoy your new improved version of the data file. "
   ]
  },
  {
   "cell_type": "markdown",
   "id": "4b9ae325",
   "metadata": {},
   "source": [
    "### Let's get started!"
   ]
  },
  {
   "cell_type": "markdown",
   "id": "414abb94",
   "metadata": {},
   "source": [
    "#### Import libraries\n",
    "*Libraries* are organized collections of Python code written to perform related tasks. We met some in the very first tutorial! You will hear of \"Libraries\", \"Packages\", and \"Modules\". Technically, Libraries contain Packages which contain modules. Modules are single files that contain useful functions, Packages are directories to a set of modules (or other packages), and Libraries are directories to a set of packages. That having been said, I tend to refer to them interchagebly as \"*useful chunks of pre-written code we can use!*\"\n",
    "\n",
    "##### So, as always, the first thing we need to do is import the libraries we'll likely be using:\n",
    "\n",
    "* pandas for the i/o\n",
    "* matplotlib.pyplot and...\n",
    "* seaborn to plot file contents"
   ]
  },
  {
   "cell_type": "markdown",
   "id": "18385f22",
   "metadata": {},
   "source": [
    "*Remember, to run each code cell like the one below, select it and then hit **shift-return** (or shift-enter)*."
   ]
  },
  {
   "cell_type": "code",
   "execution_count": 3,
   "id": "86bef4fc",
   "metadata": {},
   "outputs": [],
   "source": [
    "import pandas as pd\n",
    "import matplotlib.pyplot as plt\n",
    "import seaborn as sns"
   ]
  },
  {
   "cell_type": "markdown",
   "id": "d8229e3a",
   "metadata": {},
   "source": [
    "Now you should have these three libraries available to you via their standard nicknames: pd, plt, and sns.\n",
    "\n",
    "If 'sns' seems like a weird nickname for 'seaborn', I'll give you hint about it: It's an homage to one of the main characters in one of the best television series ever made. The show ran from 1999 until 2006 on NBC."
   ]
  },
  {
   "cell_type": "markdown",
   "id": "0245e81d",
   "metadata": {},
   "source": [
    "### Let's read some data!"
   ]
  },
  {
   "cell_type": "markdown",
   "id": "a361a941",
   "metadata": {},
   "source": [
    "There are many ways that data can be stored, from excel files to tables on webpages."
   ]
  },
  {
   "cell_type": "markdown",
   "id": "4ce55f7e",
   "metadata": {},
   "source": [
    "For this tutorial, we are going to read a data file called `006DataFile.csv`, which you should have in the same folder as this notebook if you followed the ReadMe!"
   ]
  },
  {
   "cell_type": "markdown",
   "id": "f8ccd14c",
   "metadata": {},
   "source": [
    "We read a .csv file (more on this file type in a bit) using the `pandas.read_csv()` function. But, remember, we have imported pandas as pd, so we read the .csv file, with slightly less typing, like this:"
   ]
  },
  {
   "cell_type": "code",
   "execution_count": 4,
   "id": "e8df1330",
   "metadata": {},
   "outputs": [],
   "source": [
    "myDataFromFile = pd.read_csv(\"../datasets/006DataFile.csv\")"
   ]
  },
  {
   "cell_type": "markdown",
   "id": "2c0ea01f",
   "metadata": {},
   "source": [
    "This command will work \"out of the box\" if your copy of the data file is in your \"*datasets*\" directory, which should be a subdirectory of the one this notebook is in. \n",
    "\n",
    "Otherwise, you would have to change the command above to specify the path to the data file – where on the file tree the data file exists (either in '*absolute*' terms from root, or in '*relative*' terms from you current directory)."
   ]
  },
  {
   "cell_type": "markdown",
   "id": "67ce2b39",
   "metadata": {},
   "source": [
    "### Let's look at what we just read."
   ]
  },
  {
   "cell_type": "markdown",
   "id": "406389b1",
   "metadata": {},
   "source": [
    "Okay, now let's look at the file. We can take a quick peek by using the `display()` function:"
   ]
  },
  {
   "cell_type": "code",
   "execution_count": 5,
   "id": "8f189247",
   "metadata": {},
   "outputs": [
    {
     "data": {
      "text/html": [
       "<div>\n",
       "<style scoped>\n",
       "    .dataframe tbody tr th:only-of-type {\n",
       "        vertical-align: middle;\n",
       "    }\n",
       "\n",
       "    .dataframe tbody tr th {\n",
       "        vertical-align: top;\n",
       "    }\n",
       "\n",
       "    .dataframe thead th {\n",
       "        text-align: right;\n",
       "    }\n",
       "</style>\n",
       "<table border=\"1\" class=\"dataframe\">\n",
       "  <thead>\n",
       "    <tr style=\"text-align: right;\">\n",
       "      <th></th>\n",
       "      <th>VarA</th>\n",
       "      <th>VarB</th>\n",
       "    </tr>\n",
       "  </thead>\n",
       "  <tbody>\n",
       "    <tr>\n",
       "      <th>0</th>\n",
       "      <td>0.979109</td>\n",
       "      <td>-0.128890</td>\n",
       "    </tr>\n",
       "    <tr>\n",
       "      <th>1</th>\n",
       "      <td>0.196564</td>\n",
       "      <td>0.403177</td>\n",
       "    </tr>\n",
       "    <tr>\n",
       "      <th>2</th>\n",
       "      <td>0.260841</td>\n",
       "      <td>0.682448</td>\n",
       "    </tr>\n",
       "    <tr>\n",
       "      <th>3</th>\n",
       "      <td>2.432641</td>\n",
       "      <td>-0.295968</td>\n",
       "    </tr>\n",
       "    <tr>\n",
       "      <th>4</th>\n",
       "      <td>-0.689790</td>\n",
       "      <td>-0.088941</td>\n",
       "    </tr>\n",
       "    <tr>\n",
       "      <th>...</th>\n",
       "      <td>...</td>\n",
       "      <td>...</td>\n",
       "    </tr>\n",
       "    <tr>\n",
       "      <th>95</th>\n",
       "      <td>2.416932</td>\n",
       "      <td>-1.065406</td>\n",
       "    </tr>\n",
       "    <tr>\n",
       "      <th>96</th>\n",
       "      <td>4.166266</td>\n",
       "      <td>-1.053911</td>\n",
       "    </tr>\n",
       "    <tr>\n",
       "      <th>97</th>\n",
       "      <td>-0.203719</td>\n",
       "      <td>0.610032</td>\n",
       "    </tr>\n",
       "    <tr>\n",
       "      <th>98</th>\n",
       "      <td>1.232813</td>\n",
       "      <td>-0.744738</td>\n",
       "    </tr>\n",
       "    <tr>\n",
       "      <th>99</th>\n",
       "      <td>0.833993</td>\n",
       "      <td>-0.372451</td>\n",
       "    </tr>\n",
       "  </tbody>\n",
       "</table>\n",
       "<p>100 rows × 2 columns</p>\n",
       "</div>"
      ],
      "text/plain": [
       "        VarA      VarB\n",
       "0   0.979109 -0.128890\n",
       "1   0.196564  0.403177\n",
       "2   0.260841  0.682448\n",
       "3   2.432641 -0.295968\n",
       "4  -0.689790 -0.088941\n",
       "..       ...       ...\n",
       "95  2.416932 -1.065406\n",
       "96  4.166266 -1.053911\n",
       "97 -0.203719  0.610032\n",
       "98  1.232813 -0.744738\n",
       "99  0.833993 -0.372451\n",
       "\n",
       "[100 rows x 2 columns]"
      ]
     },
     "metadata": {},
     "output_type": "display_data"
    }
   ],
   "source": [
    "display(myDataFromFile)"
   ]
  },
  {
   "cell_type": "markdown",
   "id": "119ee1fc",
   "metadata": {},
   "source": [
    "Here, we can see that this file (like almost all data files) consists of rows and columns. The rows represent *observations* and the columns represent *variables*. This type of data file contains \"tidy\" data (if you have used R, you may have encountered the tidyverse). Sometimes, we will encounter data files that violate this \"rows = observations, columns = variables\" rule – untidy data – we will deal with this issue later in the class."
   ]
  },
  {
   "cell_type": "markdown",
   "id": "131ca4cb",
   "metadata": {},
   "source": [
    "A very common genertic data file type is the comma separated values file, or .csv file. This is the type of data file we just loaded (006DataFile***.csv***). As the name implies, a file in this format consists values separated by commas to form rows, and \"carriage returns\" (CR) or \"line feeds\" (LF) marking the end of each row."
   ]
  },
  {
   "cell_type": "markdown",
   "id": "f3010f34",
   "metadata": {},
   "source": [
    "---\n",
    "**Useless Trivia Alert!**:\n",
    "\n",
    "These terms come from typewritters and old-old-old-school printers, respectively. Typewritters had a \"carriage\" that held the paper and moved to the left while you typed. When you got to the right edge of the paper, you hit the \"*carriage return*\" key and the whole carriage flew back (*returned*) to right with a loud clunk and advanced the paper down a line. To this day, the big fat important key on the right side of most keyboards still says \"return\".\n",
    "\n",
    "Old-school printers used long continuous \"fan fold\" sheets of paper (they could be literally hundreds of feet long) and had to be told to advance the paper one line with a \"*line feed*\" command. Once you were done printing, you ripped/cut your paper off the printer sort of like you do with aluminum foil or plastic wrap!\n",
    "\n",
    "---"
   ]
  },
  {
   "cell_type": "markdown",
   "id": "1dc35edc",
   "metadata": {},
   "source": [
    "**Useful aside!:**\n",
    "We can even copy data to the clipboard and read that in. I just copied the [population of Burkina Faso by year](https://en.wikipedia.org/wiki/Burkina_Faso) from wikibedia. And we can read that into a data frame like this:"
   ]
  },
  {
   "cell_type": "code",
   "execution_count": 36,
   "id": "26df8b15",
   "metadata": {},
   "outputs": [],
   "source": [
    "cb = pd.read_clipboard()"
   ]
  },
  {
   "cell_type": "code",
   "execution_count": 37,
   "id": "ce1bb610",
   "metadata": {},
   "outputs": [
    {
     "data": {
      "text/html": [
       "<div>\n",
       "<style scoped>\n",
       "    .dataframe tbody tr th:only-of-type {\n",
       "        vertical-align: middle;\n",
       "    }\n",
       "\n",
       "    .dataframe tbody tr th {\n",
       "        vertical-align: top;\n",
       "    }\n",
       "\n",
       "    .dataframe thead th {\n",
       "        text-align: right;\n",
       "    }\n",
       "</style>\n",
       "<table border=\"1\" class=\"dataframe\">\n",
       "  <thead>\n",
       "    <tr style=\"text-align: right;\">\n",
       "      <th></th>\n",
       "      <th>Year</th>\n",
       "      <th>Million</th>\n",
       "    </tr>\n",
       "  </thead>\n",
       "  <tbody>\n",
       "    <tr>\n",
       "      <th>0</th>\n",
       "      <td>1950</td>\n",
       "      <td>4.3</td>\n",
       "    </tr>\n",
       "    <tr>\n",
       "      <th>1</th>\n",
       "      <td>2000</td>\n",
       "      <td>11.6</td>\n",
       "    </tr>\n",
       "    <tr>\n",
       "      <th>2</th>\n",
       "      <td>2018</td>\n",
       "      <td>19.8</td>\n",
       "    </tr>\n",
       "  </tbody>\n",
       "</table>\n",
       "</div>"
      ],
      "text/plain": [
       "   Year  Million\n",
       "0  1950      4.3\n",
       "1  2000     11.6\n",
       "2  2018     19.8"
      ]
     },
     "execution_count": 37,
     "metadata": {},
     "output_type": "execute_result"
    }
   ],
   "source": [
    "cb"
   ]
  },
  {
   "cell_type": "markdown",
   "id": "aa0f17e0",
   "metadata": {},
   "source": [
    "How cool is that?!?!"
   ]
  },
  {
   "cell_type": "markdown",
   "id": "eb468367",
   "metadata": {},
   "source": [
    "---"
   ]
  },
  {
   "cell_type": "markdown",
   "id": "9ab10f4c",
   "metadata": {},
   "source": [
    "Okay, now back to the show. In addition to display(), we use can use data frame `methods`. What is a \"method\"? Methods are things that an object, like a Pandas data frame, already knows how to do. They are actions that an object can perform for you without any additional coding on your part!"
   ]
  },
  {
   "cell_type": "markdown",
   "id": "2821087d",
   "metadata": {},
   "source": [
    "One thing a data frame knows how to do is show you its first few rows with the `head()` method:"
   ]
  },
  {
   "cell_type": "code",
   "execution_count": null,
   "id": "fa9b0eac",
   "metadata": {},
   "outputs": [],
   "source": [
    "myDataFromFile.head()"
   ]
  },
  {
   "cell_type": "markdown",
   "id": "0c04123f",
   "metadata": {},
   "source": [
    "... or its last few rows with `tail()`:"
   ]
  },
  {
   "cell_type": "code",
   "execution_count": null,
   "id": "1dbf860e",
   "metadata": {},
   "outputs": [],
   "source": [
    "myDataFromFile.tail()"
   ]
  },
  {
   "cell_type": "markdown",
   "id": "9816a140",
   "metadata": {},
   "source": [
    "But how do you know what methods a given object has? Python's `dir()` function will give you a directory of any objects methods:"
   ]
  },
  {
   "cell_type": "code",
   "execution_count": null,
   "id": "806a1791",
   "metadata": {},
   "outputs": [],
   "source": [
    "dir(myDataFromFile)"
   ]
  },
  {
   "cell_type": "markdown",
   "id": "df88e707",
   "metadata": {},
   "source": [
    "HFS!!! Data frames know how to do a LOT! It's a bit overwhelming actually. We can ignore all the things that look like __this__ at the top. Scrolling the the others, `describe()` looks promising! Let's see what it does!"
   ]
  },
  {
   "cell_type": "code",
   "execution_count": null,
   "id": "cc0d7259",
   "metadata": {},
   "outputs": [],
   "source": [
    "myDataFromFile.describe()"
   ]
  },
  {
   "cell_type": "markdown",
   "id": "13282837",
   "metadata": {},
   "source": [
    "OMG, that was a good find!\n",
    "\n",
    "I also noticed a `hist` method. Could it even be possible that data frames know how to draw histograms of themselves?"
   ]
  },
  {
   "cell_type": "code",
   "execution_count": 6,
   "id": "14267424",
   "metadata": {},
   "outputs": [
    {
     "data": {
      "text/plain": [
       "array([[<AxesSubplot:title={'center':'VarA'}>,\n",
       "        <AxesSubplot:title={'center':'VarB'}>]], dtype=object)"
      ]
     },
     "execution_count": 6,
     "metadata": {},
     "output_type": "execute_result"
    },
    {
     "data": {
      "image/png": "[encoded data removed]",
      "text/plain": [
       "<Figure size 432x288 with 2 Axes>"
      ]
     },
     "metadata": {
      "needs_background": "light"
     },
     "output_type": "display_data"
    }
   ],
   "source": [
    "myDataFromFile.hist()"
   ]
  },
  {
   "cell_type": "markdown",
   "id": "e9b731e4",
   "metadata": {},
   "source": [
    "## **NO WAY!!!!!**\n",
    "\n",
    "#### I'm beginning to suspect our journey of learning to play with data is going to be part learning to code and part figuring how to use what's already out there!"
   ]
  },
  {
   "cell_type": "markdown",
   "id": "0b33b8b8",
   "metadata": {},
   "source": [
    "Okay, now let's make a histogram with the Sam – oops! – I mean `seaborn` library. `Seaborn` is a library that really just calls `matplotlib` functions, but it provides a way to use those functions that is easier than using them directly.\n",
    "\n",
    "It also by default generally makes prettier plots.\n",
    "\n",
    "Here's a histogram:"
   ]
  },
  {
   "cell_type": "code",
   "execution_count": 7,
   "id": "31cd1654",
   "metadata": {},
   "outputs": [
    {
     "data": {
      "text/plain": [
       "<AxesSubplot:ylabel='Count'>"
      ]
     },
     "execution_count": 7,
     "metadata": {},
     "output_type": "execute_result"
    },
    {
     "data": {
      "image/png": "[encoded data removed]",
      "text/plain": [
       "<Figure size 432x288 with 1 Axes>"
      ]
     },
     "metadata": {
      "needs_background": "light"
     },
     "output_type": "display_data"
    }
   ],
   "source": [
    "sns.histplot(myDataFromFile, multiple=\"stack\")"
   ]
  },
  {
   "cell_type": "markdown",
   "id": "63b4d508",
   "metadata": {},
   "source": [
    "##### Google `seaborn.histplot()` to see what the `multiple` argument does and what other possible arguments are. Play around with these to change the appearance of the histogram!"
   ]
  },
  {
   "cell_type": "markdown",
   "id": "fd768b2c",
   "metadata": {},
   "source": [
    "Now let's make Kernel Density Estimate (KDE) plots of the distributions. KDEs are essentially smoothed versions of histograms (we can unpack more about exactly what these are later). They can give us a better visual represtation of the \"vibe\" of a distribution.\n",
    "\n",
    "For the KDE plot, we plot each variable in turn, and we'll use the `color` argument in the second plot to set the curves apart:"
   ]
  },
  {
   "cell_type": "code",
   "execution_count": 8,
   "id": "bf874e9e",
   "metadata": {},
   "outputs": [
    {
     "data": {
      "text/plain": [
       "<AxesSubplot:xlabel='VarA', ylabel='Density'>"
      ]
     },
     "execution_count": 8,
     "metadata": {},
     "output_type": "execute_result"
    },
    {
     "data": {
      "image/png": "[encoded data removed]",
      "text/plain": [
       "<Figure size 432x288 with 1 Axes>"
      ]
     },
     "metadata": {
      "needs_background": "light"
     },
     "output_type": "display_data"
    }
   ],
   "source": [
    "sns.kdeplot(myDataFromFile[\"VarA\"])\n",
    "sns.kdeplot(myDataFromFile[\"VarB\"], color=\"r\")"
   ]
  },
  {
   "cell_type": "markdown",
   "id": "71b8c796",
   "metadata": {},
   "source": [
    "Here we can more clearly see the difference in means as compared to the histogram."
   ]
  },
  {
   "cell_type": "markdown",
   "id": "cd2fd696",
   "metadata": {},
   "source": [
    "We can make the visualization more aethetically appealing by using some of the optional arguments to `seaborn.kdeplot()`"
   ]
  },
  {
   "cell_type": "code",
   "execution_count": 9,
   "id": "c98599e8",
   "metadata": {},
   "outputs": [
    {
     "data": {
      "text/plain": [
       "<AxesSubplot:xlabel='VarA', ylabel='Density'>"
      ]
     },
     "execution_count": 9,
     "metadata": {},
     "output_type": "execute_result"
    },
    {
     "data": {
      "image/png": "[encoded data removed]",
      "text/plain": [
       "<Figure size 432x288 with 1 Axes>"
      ]
     },
     "metadata": {
      "needs_background": "light"
     },
     "output_type": "display_data"
    }
   ],
   "source": [
    "sns.kdeplot(myDataFromFile[\"VarA\"], color=\"b\", fill=True, alpha=0.2)\n",
    "sns.kdeplot(myDataFromFile[\"VarB\"], color=\"r\", fill=True, alpha=0.2)"
   ]
  },
  {
   "cell_type": "markdown",
   "id": "5a2727a9",
   "metadata": {},
   "source": [
    "The `color` argument is obvious. `fill` colors the area under the curve, and `alpha` make the fill transparent so you can see one curve through the other. Play around with these!"
   ]
  },
  {
   "cell_type": "markdown",
   "id": "27ccc1c8",
   "metadata": {},
   "source": [
    "### Let's see if we can write data to a file!"
   ]
  },
  {
   "cell_type": "markdown",
   "id": "e7d73a7c",
   "metadata": {},
   "source": [
    "Now maybe we can write a summary of the original data to a file so we could potentially share it with other. What we'll do is use the `descrive()` method again, but this time we'll assign it to new data frame."
   ]
  },
  {
   "cell_type": "code",
   "execution_count": null,
   "id": "f4013b1a",
   "metadata": {},
   "outputs": [],
   "source": [
    "mySummary = myDataFromFile.describe()"
   ]
  },
  {
   "cell_type": "markdown",
   "id": "86c01b9c",
   "metadata": {},
   "source": [
    "Let's just quickly that `mySummary` contains what we hope it does:"
   ]
  },
  {
   "cell_type": "code",
   "execution_count": null,
   "id": "a9143efc",
   "metadata": {},
   "outputs": [],
   "source": [
    "print(mySummary)"
   ]
  },
  {
   "cell_type": "markdown",
   "id": "e348abfc",
   "metadata": {},
   "source": [
    "Now let's write it to a file! We'll use the `to_csv` method that you can see lurking the output of `dir()` above."
   ]
  },
  {
   "cell_type": "code",
   "execution_count": null,
   "id": "88d13ce8",
   "metadata": {},
   "outputs": [],
   "source": [
    "mySummary.to_csv(\"mySummary.csv\")"
   ]
  },
  {
   "cell_type": "markdown",
   "id": "1ac25680",
   "metadata": {},
   "source": [
    "Okay, but how do we know that worked? Easy! We'll read that file back in using `pandas.read_csv()` and see what it looks like!"
   ]
  },
  {
   "cell_type": "code",
   "execution_count": null,
   "id": "0dcaa0b6",
   "metadata": {},
   "outputs": [],
   "source": [
    "mySumFF = pd.read_csv(\"mySummary.csv\")"
   ]
  },
  {
   "cell_type": "markdown",
   "id": "236a4b26",
   "metadata": {},
   "source": [
    "And then we can look at it using `display()`."
   ]
  },
  {
   "cell_type": "code",
   "execution_count": null,
   "id": "06edca2e",
   "metadata": {},
   "outputs": [],
   "source": [
    "display(mySumFF)"
   ]
  },
  {
   "cell_type": "markdown",
   "id": "2173c575",
   "metadata": {},
   "source": [
    "### Sweet! We can now read and write data files. File I/0 handled!"
   ]
  }
 ],
 "metadata": {
  "kernelspec": {
   "display_name": "Python 3 (ipykernel)",
   "language": "python",
   "name": "python3"
  },
  "language_info": {
   "codemirror_mode": {
    "name": "ipython",
    "version": 3
   },
   "file_extension": ".py",
   "mimetype": "text/x-python",
   "name": "python",
   "nbconvert_exporter": "python",
   "pygments_lexer": "ipython3",
   "version": "3.9.7"
  }
 },
 "nbformat": 4,
 "nbformat_minor": 5
}
